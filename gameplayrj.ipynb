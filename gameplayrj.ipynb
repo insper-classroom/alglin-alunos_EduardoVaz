{
 "cells": [
  {
   "cell_type": "code",
   "execution_count": 171,
   "metadata": {},
   "outputs": [
    {
     "data": {
      "text/plain": [
       "array([[2.64943177, 2.58225427, 2.77954782, 2.92946248],\n",
       "       [4.92861588, 1.71131288, 2.56598276, 2.78201282],\n",
       "       [2.27291668, 2.10371224, 2.83612753, 3.83341134],\n",
       "       [5.12874774, 3.5206734 , 2.97919875, 1.39315964]])"
      ]
     },
     "execution_count": 171,
     "metadata": {},
     "output_type": "execute_result"
    }
   ],
   "source": [
    "from scipy.linalg import svd, diagsvd\n",
    "import matplotlib.image as mpimg\n",
    "import numpy as np\n",
    "\n",
    "m1 = np.array([[3,4,3,4],[5,2,2,3],[2,1,5,3],[5,3,4,1]])\n",
    "\n",
    "m2 = np.array([[3,4,np.random.randint(0,5),4],[5,2,2,3],[2,1,5,3],[5,3,4,1]])\n",
    "\n",
    "u, s, vt = svd(m2)\n",
    "\n",
    "s[-3] *= 0\n",
    "\n",
    "sigma = diagsvd(s, m1.shape[0], m1.shape[1])\n",
    "\n",
    "B = u @ sigma @ vt \n",
    "B"
   ]
  },
  {
   "attachments": {},
   "cell_type": "markdown",
   "metadata": {},
   "source": [
    "$$\n",
    "A = \\begin{bmatrix}\n",
    "3 & 4 & 3 & 4 \\\\\n",
    "5 & 2 & 2 & 3 \\\\\n",
    "2 & 1 & 5 & 3 \\\\\n",
    "5 & 3 & 4 & 1\n",
    "\\end{bmatrix}\n",
    "$$\n",
    "\n",
    "$$\n",
    "A = \\begin{bmatrix}\n",
    "2.649 & 2.582 & 2.779 & 2.929 \\\\\n",
    "4.928 & 1.711 & 2.565 & 2.782 \\\\\n",
    "2.272, & 2.103 & 2.836 & 3.833 \\\\\n",
    "5.128 & 3.520 & 3.520 & 1.393\n",
    "\\end{bmatrix}\n",
    "$$"
   ]
  }
 ],
 "metadata": {
  "kernelspec": {
   "display_name": "Python 3",
   "language": "python",
   "name": "python3"
  },
  "language_info": {
   "codemirror_mode": {
    "name": "ipython",
    "version": 3
   },
   "file_extension": ".py",
   "mimetype": "text/x-python",
   "name": "python",
   "nbconvert_exporter": "python",
   "pygments_lexer": "ipython3",
   "version": "3.10.2"
  },
  "orig_nbformat": 4
 },
 "nbformat": 4,
 "nbformat_minor": 2
}
