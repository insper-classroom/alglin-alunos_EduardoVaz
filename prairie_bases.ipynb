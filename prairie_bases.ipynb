{
 "cells": [
  {
   "cell_type": "code",
   "execution_count": 2,
   "metadata": {},
   "outputs": [],
   "source": [
    "import numpy as np"
   ]
  },
  {
   "attachments": {},
   "cell_type": "markdown",
   "metadata": {},
   "source": [
    "# Bases \n",
    "\n",
    "### Bases 1"
   ]
  },
  {
   "cell_type": "code",
   "execution_count": 8,
   "metadata": {},
   "outputs": [
    {
     "data": {
      "text/plain": [
       "array([[123.345 ],\n",
       "       [ -0.6557],\n",
       "       [-31.7003]])"
      ]
     },
     "execution_count": 8,
     "metadata": {},
     "output_type": "execute_result"
    }
   ],
   "source": [
    "A = np.array( [[0.299, 0.587, 0.144], [0.5959, -0.2746, -0.3213], [0.2115, -0.5227, 0.3112]] )\n",
    "RGB = np.array([[101], [142], [68]])\n",
    "\n",
    "A @ RGB"
   ]
  },
  {
   "cell_type": "code",
   "execution_count": 7,
   "metadata": {},
   "outputs": [
    {
     "name": "stdout",
     "output_type": "stream",
     "text": [
      "[[188.25071049]\n",
      " [139.96676661]\n",
      " [163.15288256]]\n"
     ]
    }
   ],
   "source": [
    "A = np.array( [ [0.412,-0.124,-0.369],[0.209,0.031,0.462],[0.164,-0.171,0.191] ] ) \n",
    "RGB = np.array([[122], [112], [195]])\n",
    "T = np.array([[0,0,0], [0,1,0],[0,0,1]])\n",
    "\n",
    "print(np.linalg.inv(A) @ T @ A @ RGB)"
   ]
  }
 ],
 "metadata": {
  "kernelspec": {
   "display_name": "Python 3",
   "language": "python",
   "name": "python3"
  },
  "language_info": {
   "codemirror_mode": {
    "name": "ipython",
    "version": 3
   },
   "file_extension": ".py",
   "mimetype": "text/x-python",
   "name": "python",
   "nbconvert_exporter": "python",
   "pygments_lexer": "ipython3",
   "version": "3.10.2"
  },
  "orig_nbformat": 4
 },
 "nbformat": 4,
 "nbformat_minor": 2
}
