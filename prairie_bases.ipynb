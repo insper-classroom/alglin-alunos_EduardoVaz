{
 "cells": [
  {
   "cell_type": "code",
   "execution_count": 2,
   "metadata": {},
   "outputs": [],
   "source": [
    "import numpy as np"
   ]
  },
  {
   "attachments": {},
   "cell_type": "markdown",
   "metadata": {},
   "source": [
    "# Bases \n",
    "\n",
    "### Bases 1"
   ]
  },
  {
   "cell_type": "code",
   "execution_count": 3,
   "metadata": {},
   "outputs": [
    {
     "data": {
      "text/plain": [
       "array([[123.345 ],\n",
       "       [ -0.6557],\n",
       "       [-31.7003]])"
      ]
     },
     "execution_count": 3,
     "metadata": {},
     "output_type": "execute_result"
    }
   ],
   "source": [
    "A = np.array( [[0.299, 0.587, 0.144], [0.5959, -0.2746, -0.3213], [0.2115, -0.5227, 0.3112]] )\n",
    "RGB = np.array([[101], [142], [68]])\n",
    "\n",
    "A @ RGB"
   ]
  },
  {
   "cell_type": "code",
   "execution_count": 4,
   "metadata": {},
   "outputs": [
    {
     "name": "stdout",
     "output_type": "stream",
     "text": [
      "[[188.25071049]\n",
      " [139.96676661]\n",
      " [163.15288256]]\n"
     ]
    }
   ],
   "source": [
    "A = np.array( [ [0.412,-0.124,-0.369],[0.209,0.031,0.462],[0.164,-0.171,0.191] ] ) \n",
    "RGB = np.array([[122], [112], [195]])\n",
    "T = np.array([[0,0,0], [0,1,0],[0,0,1]])\n",
    "\n",
    "print(np.linalg.inv(A) @ T @ A @ RGB)"
   ]
  },
  {
   "attachments": {},
   "cell_type": "markdown",
   "metadata": {},
   "source": [
    "### Bases 2"
   ]
  },
  {
   "cell_type": "code",
   "execution_count": 5,
   "metadata": {},
   "outputs": [
    {
     "data": {
      "text/plain": [
       "array([[0.07142857],\n",
       "       [0.64285714]])"
      ]
     },
     "execution_count": 5,
     "metadata": {},
     "output_type": "execute_result"
    }
   ],
   "source": [
    "# x = av1 + bv2\n",
    "\n",
    "x = np.array([[3],[2]])\n",
    "v = np.array([[6,4], [1,3]])\n",
    "\n",
    "np.linalg.inv(v) @ x "
   ]
  },
  {
   "cell_type": "code",
   "execution_count": 6,
   "metadata": {},
   "outputs": [
    {
     "data": {
      "text/plain": [
       "array([[-0.1, -0.5,  1.6],\n",
       "       [ 0.8, -0.5,  1.6],\n",
       "       [ 0. ,  0. ,  1. ]])"
      ]
     },
     "execution_count": 6,
     "metadata": {},
     "output_type": "execute_result"
    }
   ],
   "source": [
    "# Bv = w\n",
    "\n",
    "v = np.array([[0,0,1],[0,1,1],[1,1,1]])\n",
    "w = np.array([[1.6,1.1,1],[1.6,1.1,1.9],[1,1,1]])\n",
    "\n",
    "w @ np.linalg.inv(v)"
   ]
  },
  {
   "cell_type": "code",
   "execution_count": 7,
   "metadata": {},
   "outputs": [
    {
     "data": {
      "text/plain": [
       "array([[-4.00026817, -1.00433291,  1.2881502 ,  4.39362368, -2.93987369,\n",
       "        -1.68237023,  1.18689447,  2.79538677,  0.14800945,  0.77288265]])"
      ]
     },
     "execution_count": 7,
     "metadata": {},
     "output_type": "execute_result"
    }
   ],
   "source": [
    "# Qual o vetor equivalente a x na base v?\n",
    "\n",
    "x = np.array([[3, 6, 3, 7, 4, 3, 8, 7, 1, 5]])\n",
    "v = np.array([[8, 2, 6, 7, 0, 8, 6, 2, 4, 6], [0, 1, 9, 6, 0, 3, 7, 7, 9, 1], [8, 4, 8, 2, 5, 3, 9, 5, 2, 9], [4, 4, 5, 4, 1, 8, 9, 0, 8, 4], [1, 7, 5, 3, 5, 4, 8, 0, 6, 8], [2, 5, 6, 3, 6, 1, 0, 0, 7, 3], [3, 8, 5, 5, 1, 4, 1, 6, 7, 1], [2, 4, 7, 8, 6, 0, 2, 1, 2, 8], [8, 4, 5, 7, 0, 5, 0, 7, 5, 3], [4, 0, 3, 7, 0, 9, 6, 6, 4, 7]])\n",
    "\n",
    "# Bx = Iv\n",
    "\n",
    "x @ np.linalg.inv(v)"
   ]
  },
  {
   "cell_type": "code",
   "execution_count": 8,
   "metadata": {},
   "outputs": [
    {
     "name": "stdout",
     "output_type": "stream",
     "text": [
      "[[-2.4671622769447922e-17, -0.16666666666666666, 0.16666666666666666], [0.1666666666666667, 0.25, -0.25], [-0.2916666666666667, -0.0625, 0.3125]]\n"
     ]
    }
   ],
   "source": [
    "\n",
    "\n",
    "x = np.array([[8, 7, 4, 7, 8, 1, 5, 4, 8, 9]])\n",
    "v1 = np.array([[9, 6, 0]])\n",
    "v2 = np.array([[3, 7, 4]])\n",
    "v3 = np.array([[9, 7, 4]])\n",
    "\n",
    "v = np.concatenate((v1,v2,v3), axis=0)\n",
    "\n",
    "print(np.linalg.inv(v).tolist())"
   ]
  },
  {
   "attachments": {},
   "cell_type": "markdown",
   "metadata": {},
   "source": [
    "### Bases 3"
   ]
  },
  {
   "cell_type": "code",
   "execution_count": 9,
   "metadata": {},
   "outputs": [
    {
     "data": {
      "text/plain": [
       "array([2.75500049])"
      ]
     },
     "execution_count": 9,
     "metadata": {},
     "output_type": "execute_result"
    }
   ],
   "source": [
    "d = 1\n",
    "P = np.array([ [0,0,-d], [0, 1, 0], [-1/d, 0, 0] ]) \n",
    "ponto = np.array([[19],[18],[1]])\n",
    "\n",
    "proj_1 = P @ ponto\n",
    "proj_1\n",
    "\n",
    "xp1 = proj_1[0]\n",
    "yp1 = proj_1[1] / proj_1[2]\n",
    "\n",
    "d = 3\n",
    "P = np.array([ [0,0,-d], [0, 1, 0], [-1/d, 0, 0] ]) \n",
    "\n",
    "proj_2 = P @ ponto\n",
    "proj_2\n",
    "\n",
    "xp2 = proj_2[0]\n",
    "yp2 = proj_2[1] / proj_2[2]\n",
    "\n",
    "dist = ((xp1 - xp2)**2 + (yp1 - yp2)**2)**0.5\n",
    "dist"
   ]
  }
 ],
 "metadata": {
  "kernelspec": {
   "display_name": "Python 3",
   "language": "python",
   "name": "python3"
  },
  "language_info": {
   "codemirror_mode": {
    "name": "ipython",
    "version": 3
   },
   "file_extension": ".py",
   "mimetype": "text/x-python",
   "name": "python",
   "nbconvert_exporter": "python",
   "pygments_lexer": "ipython3",
   "version": "3.10.2"
  },
  "orig_nbformat": 4,
  "vscode": {
   "interpreter": {
    "hash": "c41a0a25144bec0c9f74b59ac53d481256742d76741725bc0eb1b3ed809858fd"
   }
  }
 },
 "nbformat": 4,
 "nbformat_minor": 2
}
