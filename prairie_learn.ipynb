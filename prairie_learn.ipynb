{
 "cells": [
  {
   "attachments": {},
   "cell_type": "markdown",
   "metadata": {},
   "source": [
    "# Autovalores e Autovetores\n",
    "\n",
    "## Autovalores e Autovetores 1"
   ]
  },
  {
   "cell_type": "code",
   "execution_count": 17,
   "metadata": {},
   "outputs": [
    {
     "data": {
      "text/plain": [
       "array([-0.32413645, -0.30104886, -0.40956309, -0.36754874, -0.37670385,\n",
       "       -0.29736241, -0.33848769, -0.39568551])"
      ]
     },
     "execution_count": 17,
     "metadata": {},
     "output_type": "execute_result"
    }
   ],
   "source": [
    "import numpy as np\n",
    "\n",
    "A = np.array([[0.17, 0.38, 0.07, 0.45, 0.06, 0.82, 0.76, 0.70], [0.01, 0.87, 0.03, 0.38, 0.35, 0.58, 0.28, 0.67], [0.02, 0.21, 0.87, 0.72, 0.38, 0.73, 0.54, 0.60], [0.05, 0.38, 0.43, 0.53, 0.84, 0.20, 0.63, 0.58], [0.02, 0.55, 0.58, 0.61, 0.97, 0.35, 0.13, 0.52], [0.48, 0.08, 0.65, 0.18, 0.57, 0.46, 0.16, 0.38], [0.68, 0.41, 0.19, 0.37, 0.17, 0.74, 0.24, 0.74], [0.13, 0.94, 0.63, 0.38, 0.60, 0.34, 0.98, 0.10]])\n",
    "\n",
    "w, v = np.linalg.eig(A)\n",
    "v[:,0]"
   ]
  },
  {
   "cell_type": "code",
   "execution_count": 11,
   "metadata": {},
   "outputs": [
    {
     "data": {
      "text/plain": [
       "array([[0.19      , 0.54      , 0.69999999],\n",
       "       [0.1       , 0.49      , 0.5       ],\n",
       "       [0.18      , 0.5       , 0.56999999]])"
      ]
     },
     "execution_count": 11,
     "metadata": {},
     "output_type": "execute_result"
    }
   ],
   "source": [
    "import numpy as np\n",
    "\n",
    "v = np.array([[-0.65605067, -0.78501064, 0.71546261], [-0.49170526, -0.34223248, -0.60329557], [-0.57255869, 0.51636734, 0.35234601]])\n",
    "w = np.array([1.20564094, -0.03503083, 0.07938988])\n",
    "\n",
    "lambda_m = np.array([[w[0], 0, 0], [0, w[1], 0], [0, 0, w[2]]])\n",
    "\n",
    "A = v @ lambda_m @ np.linalg.inv(v)\n",
    "A"
   ]
  },
  {
   "cell_type": "code",
   "execution_count": 5,
   "metadata": {},
   "outputs": [
    {
     "data": {
      "text/plain": [
       "(array([-0.14561028,  0.30561028]),\n",
       " array([[-0.45518833, -0.36433169],\n",
       "        [ 0.89039518, -0.93126925]]))"
      ]
     },
     "execution_count": 5,
     "metadata": {},
     "output_type": "execute_result"
    }
   ],
   "source": [
    "import numpy as np\n",
    "\n",
    "A = np.array([[0.05, 0.10], [0.50, 0.11]])\n",
    "w, v = np.linalg.eig(A)\n",
    "w, v"
   ]
  }
 ],
 "metadata": {
  "kernelspec": {
   "display_name": "Python 3",
   "language": "python",
   "name": "python3"
  },
  "language_info": {
   "codemirror_mode": {
    "name": "ipython",
    "version": 3
   },
   "file_extension": ".py",
   "mimetype": "text/x-python",
   "name": "python",
   "nbconvert_exporter": "python",
   "pygments_lexer": "ipython3",
   "version": "3.10.2"
  },
  "orig_nbformat": 4
 },
 "nbformat": 4,
 "nbformat_minor": 2
}
